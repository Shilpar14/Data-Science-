{
  "nbformat": 4,
  "nbformat_minor": 0,
  "metadata": {
    "colab": {
      "provenance": []
    },
    "kernelspec": {
      "name": "python3",
      "display_name": "Python 3"
    },
    "language_info": {
      "name": "python"
    }
  },
  "cells": [
    {
      "cell_type": "code",
      "execution_count": null,
      "metadata": {
        "id": "B18B-Q9IJ3g6"
      },
      "outputs": [],
      "source": [
        "import pandas as pd\n",
        "import numpy as np\n",
        "from scipy import stats"
      ]
    },
    {
      "cell_type": "markdown",
      "source": [
        "**Super Market example**"
      ],
      "metadata": {
        "id": "EXxvM4PeQhxG"
      }
    },
    {
      "cell_type": "code",
      "source": [
        "1-stats.t.cdf(2.23,df=79)#( t value ,sample size =n-1)"
      ],
      "metadata": {
        "colab": {
          "base_uri": "https://localhost:8080/"
        },
        "id": "0or3OchPQg9h",
        "outputId": "aa6be468-678f-4ede-9865-0e2f23b10629"
      },
      "execution_count": null,
      "outputs": [
        {
          "output_type": "execute_result",
          "data": {
            "text/plain": [
              "0.014292908802574056"
            ]
          },
          "metadata": {},
          "execution_count": 3
        }
      ]
    },
    {
      "cell_type": "code",
      "source": [
        "#call center example\n",
        "#1-stats.t.cdf(1.4,49) its right part of bell curve\n",
        "#stats.t.cdf(-1.4,49) here its left part\n",
        "r=2*stats.t.cdf(-14,49)\n",
        "print(\"rounded value = \",round(r,4))"
      ],
      "metadata": {
        "colab": {
          "base_uri": "https://localhost:8080/"
        },
        "id": "KI54F7GWTQ36",
        "outputId": "4d4a0164-9d49-4978-9699-e7ec991a8650"
      },
      "execution_count": null,
      "outputs": [
        {
          "output_type": "stream",
          "name": "stdout",
          "text": [
            "rounded value =  0.0\n"
          ]
        }
      ]
    },
    {
      "cell_type": "markdown",
      "source": [
        "**Call center example**"
      ],
      "metadata": {
        "id": "8MUfqELyWT7L"
      }
    },
    {
      "cell_type": "code",
      "source": [
        "t=(4.6-4)/(3/np.sqrt(50))\n",
        "t"
      ],
      "metadata": {
        "colab": {
          "base_uri": "https://localhost:8080/"
        },
        "id": "ZRNreCiiV-YZ",
        "outputId": "e4246b97-0df3-45a2-d9d7-c0c90fce0ceb"
      },
      "execution_count": null,
      "outputs": [
        {
          "output_type": "execute_result",
          "data": {
            "text/plain": [
              "1.4142135623730943"
            ]
          },
          "metadata": {},
          "execution_count": 5
        }
      ]
    },
    {
      "cell_type": "code",
      "source": [
        "p=2*stats.t.cdf(-1.41,49)\n",
        "p"
      ],
      "metadata": {
        "colab": {
          "base_uri": "https://localhost:8080/"
        },
        "id": "C9hMvJLPXDn6",
        "outputId": "723ec5da-91b4-48c5-8734-ce1b812f73ee"
      },
      "execution_count": null,
      "outputs": [
        {
          "output_type": "execute_result",
          "data": {
            "text/plain": [
              "0.1648559451804547"
            ]
          },
          "metadata": {},
          "execution_count": 7
        }
      ]
    },
    {
      "cell_type": "markdown",
      "source": [
        "**One tail test**"
      ],
      "metadata": {
        "id": "FlWFS1b9XgNq"
      }
    },
    {
      "cell_type": "code",
      "source": [
        "data=pd.Series([0.593,0.142,0.329,0.691,0.231,0.793,0.519,0.392,0.418])\n",
        "data"
      ],
      "metadata": {
        "colab": {
          "base_uri": "https://localhost:8080/"
        },
        "id": "oKzGj4wpXltd",
        "outputId": "158e6109-8d3f-45bb-cb72-565971698325"
      },
      "execution_count": null,
      "outputs": [
        {
          "output_type": "execute_result",
          "data": {
            "text/plain": [
              "0    0.593\n",
              "1    0.142\n",
              "2    0.329\n",
              "3    0.691\n",
              "4    0.231\n",
              "5    0.793\n",
              "6    0.519\n",
              "7    0.392\n",
              "8    0.418\n",
              "dtype: float64"
            ]
          },
          "metadata": {},
          "execution_count": 8
        }
      ]
    },
    {
      "cell_type": "code",
      "source": [
        "p=stats.ttest_1samp(data,0.3)[1] # 1 is index of 2 nd  value\n",
        "#mu=0.3,p=p1+p2\n",
        "print(p)"
      ],
      "metadata": {
        "colab": {
          "base_uri": "https://localhost:8080/"
        },
        "id": "-8ZVLl8rXwv9",
        "outputId": "b27913f8-a7bd-4a41-9d15-bab2102c97fb"
      },
      "execution_count": null,
      "outputs": [
        {
          "output_type": "stream",
          "name": "stdout",
          "text": [
            "0.05853032968489765\n"
          ]
        }
      ]
    },
    {
      "cell_type": "code",
      "source": [
        "stats.ttest_1samp(data,0.3)#this command gives you the 2 tail p value\n",
        "#t value =2.2050588385131595, pvalue=0.05853032968489765 here, p=p1+p2\n",
        "#index of t value is 0 and p value is 1\n"
      ],
      "metadata": {
        "colab": {
          "base_uri": "https://localhost:8080/"
        },
        "id": "gsMGHsAVYhLu",
        "outputId": "e74dd298-974b-4f50-ecd4-5bd8ffd462df"
      },
      "execution_count": null,
      "outputs": [
        {
          "output_type": "stream",
          "name": "stdout",
          "text": [
            "Ttest_1sampResult(statistic=2.2050588385131595, pvalue=0.05853032968489765)\n"
          ]
        }
      ]
    },
    {
      "cell_type": "code",
      "source": [
        "#as this is  a one tail test p value so divide by 2 to get final p value\n",
        "pval=p/2\n",
        "pval\n",
        "#null hypo . is mu<=0.3,alter .hypo .is mu>0.3\n",
        "#alpha=0.05,p value we got is 0.29 so p<alpha .so reject Null hypothesis\n",
        "#so go for alt hypo\n",
        "#interpret it : As mean value mu >0.3 factory is causing probelm"
      ],
      "metadata": {
        "colab": {
          "base_uri": "https://localhost:8080/"
        },
        "id": "jgNn7uGpY9Ww",
        "outputId": "dc3734cf-8551-46b5-e40b-8138d7a6c5a8"
      },
      "execution_count": null,
      "outputs": [
        {
          "output_type": "execute_result",
          "data": {
            "text/plain": [
              "0.029265164842448826"
            ]
          },
          "metadata": {},
          "execution_count": 19
        }
      ]
    },
    {
      "cell_type": "markdown",
      "source": [
        "**Two tail test**"
      ],
      "metadata": {
        "id": "a2_4ikUsa02x"
      }
    },
    {
      "cell_type": "code",
      "source": [
        "#2 sample 2 tail test\n",
        "#comparing drugs -control group and treatement group\n",
        "control=pd.Series([91,87,99,77,88,91])\n",
        "treat=pd.Series([1010,110,103,93,99,104])"
      ],
      "metadata": {
        "id": "KP1IF_Itaw4l"
      },
      "execution_count": null,
      "outputs": []
    },
    {
      "cell_type": "code",
      "source": [
        "stats.ttest_ind(control,treat)#2 tail independent\n",
        "#p=p1+p2 , we r conducting 2 sample 2 tail test , so no need to divide p by 2\n",
        "#p=0.006, alpha =0.05,p<alpha so reject null hypo .so accept alt hypo\n",
        "#interpretataion :2 responses are not equal so drug is working"
      ],
      "metadata": {
        "colab": {
          "base_uri": "https://localhost:8080/"
        },
        "id": "3_EvEXNJbntx",
        "outputId": "2e122640-766d-486a-907a-9769a304cc27"
      },
      "execution_count": null,
      "outputs": [
        {
          "output_type": "execute_result",
          "data": {
            "text/plain": [
              "Ttest_indResult(statistic=-1.0853358575398122, pvalue=0.3032438197121077)"
            ]
          },
          "metadata": {},
          "execution_count": 22
        }
      ]
    },
    {
      "cell_type": "markdown",
      "source": [
        "**2 propotion test**"
      ],
      "metadata": {
        "id": "gPj5aG8GcqTz"
      }
    },
    {
      "cell_type": "code",
      "source": [
        "#data:placemnt data example\n",
        "n1=247\n",
        "p1=.37\n",
        "\n",
        "n2=308\n",
        "p2=.39 #proportion is 0.39"
      ],
      "metadata": {
        "id": "tYB73hLecpaS"
      },
      "execution_count": null,
      "outputs": []
    },
    {
      "cell_type": "code",
      "source": [
        "#As they vent given total data we r generating random data using binomial function\n",
        "pop1=np.random.binomial(1,p1,n1)#1 placed i.e probability of success , o not placed\n",
        "pop2=np.random.binomial(1,p2,n2)# as its a random function every time you execute , you will get"
      ],
      "metadata": {
        "id": "D1vvZFHcdJSQ"
      },
      "execution_count": null,
      "outputs": []
    },
    {
      "cell_type": "code",
      "source": [
        "pop1"
      ],
      "metadata": {
        "colab": {
          "base_uri": "https://localhost:8080/"
        },
        "id": "6Md5WsSQdwfh",
        "outputId": "40c22b22-83a9-46a7-869d-e91d056fb977"
      },
      "execution_count": null,
      "outputs": [
        {
          "output_type": "execute_result",
          "data": {
            "text/plain": [
              "array([1, 0, 0, 0, 0, 0, 1, 1, 1, 1, 0, 1, 0, 1, 1, 0, 1, 0, 0, 0, 0, 0,\n",
              "       1, 0, 0, 0, 0, 1, 1, 0, 0, 1, 1, 1, 0, 0, 0, 0, 0, 0, 1, 0, 0, 1,\n",
              "       0, 1, 0, 0, 0, 0, 1, 0, 0, 1, 1, 0, 1, 0, 0, 0, 1, 0, 1, 0, 1, 1,\n",
              "       0, 1, 1, 0, 0, 1, 0, 0, 1, 0, 1, 0, 0, 1, 0, 1, 1, 1, 0, 1, 1, 0,\n",
              "       0, 0, 1, 1, 1, 0, 0, 0, 1, 1, 0, 0, 0, 0, 0, 1, 1, 0, 1, 1, 0, 0,\n",
              "       0, 1, 0, 0, 0, 0, 1, 1, 1, 0, 1, 0, 1, 1, 1, 0, 1, 1, 1, 0, 0, 0,\n",
              "       1, 1, 0, 0, 0, 1, 0, 0, 1, 0, 0, 0, 0, 0, 0, 0, 0, 0, 0, 0, 0, 0,\n",
              "       0, 1, 0, 1, 0, 0, 0, 0, 0, 1, 0, 1, 1, 0, 0, 0, 1, 0, 0, 0, 1, 1,\n",
              "       1, 0, 0, 0, 0, 1, 0, 0, 0, 1, 1, 1, 0, 0, 1, 1, 0, 1, 0, 0, 1, 0,\n",
              "       0, 0, 0, 0, 0, 1, 0, 1, 0, 0, 1, 0, 1, 0, 0, 1, 0, 0, 0, 1, 0, 1,\n",
              "       0, 0, 0, 0, 1, 0, 0, 0, 0, 0, 1, 1, 1, 1, 0, 0, 0, 0, 1, 0, 0, 0,\n",
              "       1, 0, 0, 0, 1])"
            ]
          },
          "metadata": {},
          "execution_count": 28
        }
      ]
    },
    {
      "cell_type": "code",
      "source": [
        "pop2"
      ],
      "metadata": {
        "colab": {
          "base_uri": "https://localhost:8080/"
        },
        "id": "GJOL0L-FeWpZ",
        "outputId": "f78196a6-330d-4eea-b4dd-d0ac06d0fef2"
      },
      "execution_count": null,
      "outputs": [
        {
          "output_type": "execute_result",
          "data": {
            "text/plain": [
              "array([1, 1, 0, 1, 0, 0, 1, 1, 0, 1, 0, 1, 0, 1, 1, 1, 1, 0, 0, 0, 0, 1,\n",
              "       0, 0, 0, 1, 0, 0, 0, 1, 0, 0, 0, 0, 0, 0, 0, 1, 0, 1, 1, 1, 0, 0,\n",
              "       1, 1, 0, 0, 0, 0, 0, 0, 1, 1, 1, 0, 0, 1, 0, 0, 1, 1, 0, 1, 1, 1,\n",
              "       0, 1, 0, 0, 0, 1, 0, 0, 0, 0, 0, 1, 0, 0, 1, 1, 0, 0, 1, 1, 0, 0,\n",
              "       0, 0, 0, 0, 0, 0, 0, 0, 1, 1, 1, 0, 0, 0, 1, 1, 0, 0, 1, 0, 1, 0,\n",
              "       1, 0, 0, 0, 1, 0, 1, 0, 0, 0, 1, 0, 0, 0, 1, 0, 1, 0, 1, 0, 1, 1,\n",
              "       0, 0, 1, 0, 0, 1, 0, 1, 0, 0, 1, 0, 0, 0, 0, 1, 0, 0, 1, 1, 0, 1,\n",
              "       0, 0, 0, 1, 0, 1, 0, 0, 1, 0, 1, 0, 0, 0, 0, 1, 0, 1, 0, 1, 1, 0,\n",
              "       1, 0, 0, 0, 0, 1, 0, 0, 0, 1, 0, 1, 0, 1, 1, 0, 0, 1, 0, 1, 1, 0,\n",
              "       0, 1, 1, 0, 0, 0, 0, 0, 0, 0, 0, 0, 0, 0, 1, 0, 1, 1, 0, 0, 1, 1,\n",
              "       1, 0, 1, 0, 0, 0, 0, 0, 0, 1, 0, 1, 0, 0, 0, 0, 1, 0, 1, 1, 1, 1,\n",
              "       0, 1, 0, 1, 1, 0, 1, 0, 1, 1, 1, 1, 0, 0, 1, 0, 1, 1, 1, 1, 0, 0,\n",
              "       1, 0, 1, 0, 1, 1, 0, 0, 0, 1, 1, 0, 1, 1, 0, 0, 0, 0, 0, 0, 0, 1,\n",
              "       0, 1, 1, 1, 0, 1, 0, 0, 0, 1, 0, 1, 0, 0, 1, 1, 1, 1, 0, 0, 0, 0])"
            ]
          },
          "metadata": {},
          "execution_count": 34
        }
      ]
    },
    {
      "cell_type": "code",
      "source": [
        "import statsmodels.api as sm\n",
        "sm.stats.ttest_ind(pop1, pop2)#middle is the p value\n",
        "#p>0.05 sp accept null hypo\n",
        "#interpretation :students are almost equally got placed in 2 states\n",
        "#i.e no significant difference in providing placement oppurtunities to students in  states"
      ],
      "metadata": {
        "colab": {
          "base_uri": "https://localhost:8080/"
        },
        "id": "wmw5eD4hfGYt",
        "outputId": "02503a41-f432-4663-c99d-7afdb2368221"
      },
      "execution_count": null,
      "outputs": [
        {
          "output_type": "execute_result",
          "data": {
            "text/plain": [
              "(0.839529216229, 0.4015351845885454, 553.0)"
            ]
          },
          "metadata": {},
          "execution_count": 37
        }
      ]
    },
    {
      "cell_type": "code",
      "source": [
        "#import statsmodels.api as sm\n",
        "p=0.05\n",
        "\n",
        "pop1=np.random.binomial(1,p1,n1)\n",
        "pop2=np.random.binomial(1,p2,n2)\n",
        "\n",
        "x=sm.stats.ttest_ind(pop1, pop2)[1] # 1 is the index of p value which ismiddle 1\n",
        "print(round(x,3))\n",
        "\n",
        "if x>p:\n",
        "  print(f'Accept null hypothesis\\n---------')\n",
        "else:\n",
        "  print(f'failed to reject the null hypothesis\\n---------')"
      ],
      "metadata": {
        "colab": {
          "base_uri": "https://localhost:8080/"
        },
        "id": "WOSm9TWKgNaa",
        "outputId": "c02e65f8-ffe5-4eb9-e75c-083b474a8878"
      },
      "execution_count": null,
      "outputs": [
        {
          "output_type": "stream",
          "name": "stdout",
          "text": [
            "0.828\n",
            "Accept null hypothesis\n",
            "---------\n"
          ]
        }
      ]
    }
  ]
}